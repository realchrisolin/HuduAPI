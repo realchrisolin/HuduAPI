{
 "cells": [
  {
   "metadata": {},
   "cell_type": "code",
   "source": [
    "from HuduAPI import HuduClient, HuduAPI\n",
    "import json\n",
    "\n",
    "api = HuduAPI()\n",
    "result = api.get_assets(2)\n",
    "print(json.dumps(result[0], indent=2))"
   ],
   "id": "a72010f6f948759f",
   "outputs": [],
   "execution_count": null
  },
  {
   "metadata": {},
   "cell_type": "code",
   "source": [
    "from HuduAPI import HuduClient, HuduAPI\n",
    "from returns.result import Result, Success, Failure\n",
    "\n",
    "client = HuduClient()\n",
    "result = client.get_companies()\n",
    "if isinstance(result, Success):\n",
    "    companies = result.unwrap()\n",
    "    for company in companies:\n",
    "        print(f\"Company: {company.name}, ID: {company.id}\")\n",
    "        print(f\"{company.full_url}\")\n",
    "        print(f\"Company created on: {company.created_at}\\n\")\n",
    "else:\n",
    "    error = result.failure()\n",
    "    print(f\"Failed to fetch companies: {error}\")"
   ],
   "id": "1fd4b0b50a94e9b2",
   "outputs": [],
   "execution_count": null
  },
  {
   "metadata": {},
   "cell_type": "code",
   "source": [
    "from HuduAPI import HuduClient, HuduAPI\n",
    "from returns.result import Result, Success, Failure\n",
    "import json\n",
    "\n",
    "client = HuduClient()\n",
    "result = client.get_assets(2)\n",
    "if isinstance(result, Success):\n",
    "    assets = result.unwrap()\n",
    "    for asset in assets:\n",
    "        print(f\"Asset: {asset.name}, ID: {asset.id}\")\n",
    "        print(f\"Asset fields: {json.dumps(asset.fields, indent=2)}\")\n",
    "        # print(f\"Company created on: {asset.created_at}\\n\")\n",
    "else:\n",
    "    error = result.failure()\n",
    "    print(f\"Failed to fetch companies: {error}\")"
   ],
   "id": "b31e9a757d6115ed",
   "outputs": [],
   "execution_count": null
  },
  {
   "metadata": {},
   "cell_type": "code",
   "source": [
    "from HuduAPI import HuduClient, HuduAPI\n",
    "import json\n",
    "\n",
    "api = HuduAPI()\n",
    "result = api.get_asset_passwords()\n",
    "print(json.dumps(result[0], indent=2))"
   ],
   "id": "a4b11e2069acbd12",
   "outputs": [],
   "execution_count": null
  },
  {
   "metadata": {},
   "cell_type": "code",
   "source": [
    "from HuduAPI import HuduClient, HuduAPI\n",
    "from returns.result import Result, Success, Failure\n",
    "\n",
    "client = HuduClient()\n",
    "result = client.get_asset_passwords()\n",
    "if isinstance(result, Success):\n",
    "    assets = result.unwrap()\n",
    "    for asset in assets:\n",
    "        print(f\"Asset name: {asset.name}, ID: {asset.id}\")\n",
    "        print(f\"Asset description: {asset.description}\")\n",
    "        print(f\"Asset user: {asset.username}\")\n",
    "        print(f\"Asset OTP secret: {asset.otp_secret}\")\n",
    "        print(f\"\")\n",
    "        # print(f\"Company created on: {asset.created_at}\\n\")\n",
    "else:\n",
    "    error = result.failure()\n",
    "    print(f\"Failed to fetch companies: {error}\")"
   ],
   "id": "1618a78a205e9945",
   "outputs": [],
   "execution_count": null
  },
  {
   "metadata": {},
   "cell_type": "code",
   "source": [
    "from HuduAPI import HuduClient, HuduAPI\n",
    "from returns.result import Result, Success, Failure\n",
    "\n",
    "client = HuduClient()\n",
    "result = client.get_relations()\n",
    "if isinstance(result, Success):\n",
    "    relations = result.unwrap()\n",
    "    for relation in relations:\n",
    "        print(f\"Relation: {relation.name}, ID: {relation.id}\")\n",
    "        print(f\"{relation.description if relation.description is True else None}\")\n",
    "else:\n",
    "    error = result.failure()\n",
    "    print(f\"Failed to fetch companies: {error}\")"
   ],
   "id": "29c5bd08df6c7b98",
   "outputs": [],
   "execution_count": null
  },
  {
   "metadata": {},
   "cell_type": "code",
   "source": [
    "from HuduAPI import HuduClient, HuduAPI\n",
    "import json\n",
    "\n",
    "api = HuduAPI()\n",
    "result = api.get_uploads()\n",
    "print(json.dumps(result, indent=2))"
   ],
   "id": "3f79a186e81422ac",
   "outputs": [],
   "execution_count": null
  },
  {
   "metadata": {},
   "cell_type": "code",
   "source": [
    "from HuduAPI import HuduClient, HuduAPI\n",
    "from returns.result import Result, Success, Failure\n",
    "\n",
    "client = HuduClient()\n",
    "result = client.get_uploads()\n",
    "if isinstance(result, Success):\n",
    "    uploads = result.unwrap()\n",
    "    for upload in uploads:\n",
    "        print(f\"Upload name: {upload.name}, ID: {upload.id}\")\n",
    "        # print(f\"{upload.description if upload.description is True else None}\")\n",
    "else:\n",
    "    error = result.failure()\n",
    "    print(f\"Failed to fetch companies: {error}\")\n"
   ],
   "id": "532521c452891ee7",
   "outputs": [],
   "execution_count": null
  },
  {
   "metadata": {},
   "cell_type": "code",
   "source": "",
   "id": "3fdae17d30fc4fdb",
   "outputs": [],
   "execution_count": null
  }
 ],
 "metadata": {
  "kernelspec": {
   "display_name": "Python 3",
   "language": "python",
   "name": "python3"
  },
  "language_info": {
   "codemirror_mode": {
    "name": "ipython",
    "version": 2
   },
   "file_extension": ".py",
   "mimetype": "text/x-python",
   "name": "python",
   "nbconvert_exporter": "python",
   "pygments_lexer": "ipython2",
   "version": "2.7.6"
  }
 },
 "nbformat": 4,
 "nbformat_minor": 5
}
